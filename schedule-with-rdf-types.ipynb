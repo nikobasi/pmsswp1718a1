triples = []
with open('schedule-data.nt','w') as ofp:
     for s,p,o in ntr:
        p='<' + p + '>'
        
        if p=='<http://dilab77.ionio.gr/swp/c17vasi/vocab#Ημέρα>':
            o='"' + o + '"'            
            ofp.write('{} {} {}.\n'.format(s,p,o,s+p+o))
        
        if o.startswith('http'):
            o='<' + o + '>'
            ofp.write('{} {} {}.\n'.format(s,p,o,s+p+o))
            
        p1='<http://dilab77.ionio.gr/swp/c17vasi/vocab#Έναρξη>' 
        p0='<http://dilab77.ionio.gr/swp/c17vasi/vocab#Λήξη>'         
        p2='<http://dilab77.ionio.gr/swp/c17vasi/vocab#Καθηγητής>'
        p3='<http://dilab77.ionio.gr/swp/c17vasi/vocab#Μάθημα>' 
        p4='<http://dilab77.ionio.gr/swp/c17vasi/vocab#Αίθουσα>'           
             
        if p==p1 or p==p0:
            o='"' +o + ':00'+  '"' + '^^<http://www.w3.org/2001/XMLSchema#time>'
            ofp.write('{} {} {}.\n'.format(s,p,o,s+p+o))
        
        if p==p2:       
            ofp.write('{} {} {} . \n'.format(o,'<http://www.w3.org/1999/02/22-rdf-syntax-ns#type>','<http://dilab77.ionio.gr/swp/c17vasi/vocab#Kathigitis>'))
        
        if p==p3:
            ofp.write('{} {} {} . \n'.format(o,'<http://www.w3.org/1999/02/22-rdf-syntax-ns#type>','<http://dilab77.ionio.gr/swp/c17vasi/vocab#Mathima>'))
        
        if p==p4:
            ofp.write('{} {} {} . \n'.format(o,'<http://www.w3.org/1999/02/22-rdf-syntax-ns#type>','<http://dilab77.ionio.gr/swp/c17vasi/vocab#Taxi>'))
            ofp.write('{} {} {} . \n'.format(s,'<http://www.w3.org/1999/02/22-rdf-syntax-ns#type>','<http://dilab77.ionio.gr/swp/c17vasi/vocab#Dialexi>'))  
    triples.append((s,p,o))
